{
  "metadata": {
    "kernelspec": {
      "name": "python"
    },
    "language_info": {
      "name": "python",
      "version": "3.5.1"
    }
  },
  "nbformat": 4,
  "nbformat_minor": 0,
  "cells": [
    {
      "cell_type": "markdown",
      "source": "Here is the starting point for processing ultrasound nerve segmentation data from Kaggle",
      "metadata": {}
    },
    {
      "cell_type": "code",
      "source": "import os\nimport numpy as np # linear algebra\nimport pandas as pd # data processing, CSV file I/O (e.g. pd.read_csv)\nimport glob\nfrom skimage.io import imread\nimport matplotlib.pyplot as plt\nIMAGE_DIR = '../input/train/'\n# functions copied from https://www.kaggle.com/chefele/ultrasound-nerve-segmentation/animated-images-with-outlined-nerve-area\ndef to_mask_path(f_image):\n    # Convert an image file path into a corresponding mask file path \n    dirname, basename = os.path.split(f_image)\n    maskname = basename.replace(\".tif\", \"_mask.tif\")\n    return os.path.join(dirname, maskname)\ndef get_patient_images(patient):\n    # Return a dict of patient images, i.e. dict[filepath]\n    f_path = IMAGE_DIR + '%i_*.tif' % patient \n    f_ultrasounds = [f for f in glob.glob(f_path) if 'mask' not in f]\n    images = {os.path.basename(f): (imread(f), imread(to_mask_path(f))>0) for f in f_ultrasounds}\n    return images",
      "execution_count": null,
      "outputs": [],
      "metadata": {}
    },
    {
      "cell_type": "markdown",
      "source": "# Load and Preview Images",
      "metadata": {}
    },
    {
      "cell_type": "code",
      "source": "image_dict = get_patient_images(patient=41)",
      "execution_count": null,
      "outputs": [],
      "metadata": {}
    },
    {
      "cell_type": "code",
      "source": "%matplotlib inline\nus_image, us_mask = image_dict['41_40.tif']\nfig, (ax1, ax2 ,ax3) = plt.subplots(1,3, figsize = (14,4))\nax1.imshow(us_image)\nax1.set_title('Ultrasound Image')\nax2.hist(us_image.ravel())\nax2.set_title('Ultrasound Intensity Distribution')\nax3.imshow(us_mask, cmap = 'bone')\nax3.set_title('Segmented Nerve')",
      "execution_count": null,
      "outputs": [],
      "metadata": {}
    },
    {
      "cell_type": "markdown",
      "source": "## Just focus on the nerve\nShow the segmentation of the nerve and the intensity inside that region",
      "metadata": {}
    },
    {
      "cell_type": "code",
      "source": "fig, ((ax1, ax2), (ax3, ax4)) = plt.subplots(2,2, figsize = (10,10))\nax1.imshow(us_image)\nax1.set_title('Ultrasound Image')\ncounts, bins, _ = ax2.hist(us_image.ravel())\nax2.set_title('Ultrasound Intensity Distribution')\nax3.imshow(us_image*us_mask)\nax3.set_title('Segmented Nerve Image')\nax4.hist(us_image[us_mask], bins = bins) # use the same bins again\nax4.set_title('Ultrasound Intensity Distribution')",
      "execution_count": null,
      "outputs": [],
      "metadata": {}
    },
    {
      "cell_type": "markdown",
      "source": "# Simple Segmentation\nWe see too peaks in this histogram, lets try segmenting between them",
      "metadata": {}
    },
    {
      "cell_type": "code",
      "source": "%matplotlib inline\nfig, (ax1, ax2 ,ax3) = plt.subplots(1,3, figsize = (14,4))\nax1.imshow(us_image)\nax1.set_title('Ultrasound Image')\nax2.imshow(us_image>210)\nax2.set_title('Test Segmentation')\nax3.imshow(us_mask, cmap = 'bone')\nax3.set_title('Segmented Nerve')",
      "execution_count": null,
      "outputs": [],
      "metadata": {}
    },
    {
      "cell_type": "markdown",
      "source": "# Scoring the Result\nWe can use the ROC curve to score the result and see how accurately we classified the images",
      "metadata": {}
    },
    {
      "cell_type": "code",
      "source": "from sklearn.metrics import roc_curve, auc # roc curve tools\nground_truth_labels = us_mask.ravel() # we want to make them into vectors\nscore_value = us_image.ravel()/255.0 # we want to make them into vectors\nfpr, tpr, _ = roc_curve(ground_truth_labels,score_value)\nroc_auc = auc(fpr,tpr)",
      "execution_count": null,
      "outputs": [],
      "metadata": {}
    },
    {
      "cell_type": "code",
      "source": "fig, ax = plt.subplots(1,1)\nax.plot(fpr, tpr, label='ROC curve (area = %0.2f)' % roc_auc)\nax.plot([0, 1], [0, 1], 'k--')\nax.set_xlim([0.0, 1.0])\nax.set_ylim([0.0, 1.05])\nax.set_xlabel('False Positive Rate')\nax.set_ylabel('True Positive Rate')\nax.set_title('Receiver operating characteristic example')\nax.legend(loc=\"lower right\")",
      "execution_count": null,
      "outputs": [],
      "metadata": {}
    },
    {
      "cell_type": "markdown",
      "source": "# Gaussian Filter\nHere we apply a gaussian filter and see how the performance changes",
      "metadata": {}
    },
    {
      "cell_type": "code",
      "source": "%matplotlib inline\nfrom skimage.filters import gaussian\ngus_image = gaussian(us_image/255,sigma = 25)*255\nfig, (ax1, ax2 ,ax3) = plt.subplots(1,3, figsize = (14,4))\nax1.imshow(gus_image)\nax1.set_title('Gaussian Filtered Image')\nax2.imshow(gus_image>120)\nax2.set_title('Test Segmentation')\nax3.imshow(us_mask, cmap = 'bone')\nax3.set_title('Segmented Nerve')",
      "execution_count": null,
      "outputs": [],
      "metadata": {}
    },
    {
      "cell_type": "code",
      "source": "ground_truth_labels = us_mask.ravel() # we want to make them into vectors\nscore_value = gus_image.ravel()/255.0 # we want to make them into vectors\nfpr_gus, tpr_gus, _ = roc_curve(ground_truth_labels,score_value)\nroc_auc_gus = auc(fpr_gus,tpr_gus)\nfig, ax = plt.subplots(1,1)\nax.plot(fpr, tpr, label='Raw ROC curve (area = %0.2f)' % roc_auc)\nax.plot(fpr_gus, tpr_gus, label='Gaussian ROC curve (area = %0.2f)' % roc_auc_gus)\nax.plot([0, 1], [0, 1], 'k--')\nax.set_xlim([0.0, 1.0])\nax.set_ylim([0.0, 1.05])\nax.set_xlabel('False Positive Rate')\nax.set_ylabel('True Positive Rate')\nax.set_title('Receiver operating characteristic example')\nax.legend(loc=\"lower right\")",
      "execution_count": null,
      "outputs": [],
      "metadata": {}
    },
    {
      "cell_type": "markdown",
      "source": "# Tasks \n\n 1. How can you improve filtering in this analysis?\n  - Which filter elements might improve the area under the ROC?\n 3. Try making workflows to test out a few different filters\n - Where might morphological operations fit in?\n - How can you make them part of this workflow as well?\n 6. (Challenge) Try and use the optimize toolbox of scipy with the fmin\n    function (from scipy.optimize import fmin) to find the optimum\n    parameters for the highers area (hint: fmin finds the minimum value)",
      "metadata": {}
    },
    {
      "cell_type": "code",
      "source": null,
      "execution_count": null,
      "outputs": [],
      "metadata": {}
    }
  ]
}