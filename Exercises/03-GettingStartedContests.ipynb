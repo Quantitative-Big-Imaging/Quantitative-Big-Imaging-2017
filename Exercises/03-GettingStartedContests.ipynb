{
 "cells": [
  {
   "cell_type": "markdown",
   "metadata": {},
   "source": [
    "# Introduction\n",
    "Contests have become a very popular way to develop new algorithms. The basic idea is to give a large group of people (participants) access to exactly the same training data and testing data.\n",
    "### Training Data\n",
    "The training data has some input and the desired output. In the case of this example the input is an image and the output is the identification of the number which is inside the image. In the case of the 2017 Kaggle Data Science Bowl this is a Chest CT of a person and the output is a 1 or 0 if they have cancer or not. The training data is then used to build a number of different tools to solve the problem.\n",
    "### Testing Data\n",
    "The testing data are also made up of inputs and desired outputs, but the participants are just given the inputs (in this case just the images) upon which the different algorithms can be tested. Each participant submits their predictions or guesses for the ouputs to the organizer who can then compare the guesses with the known outputs. The algorithm which _matches_ the most wins (there are many different criteria for choosing the best, but in this case we will just count matches).\n",
    "\n",
    "### Standard Imports\n",
    "Here we just import some of the standard functions we will need later"
   ]
  },
  {
   "cell_type": "code",
   "execution_count": 1,
   "metadata": {
    "collapsed": true
   },
   "outputs": [],
   "source": [
    "from __future__ import print_function, division\n",
    "import numpy as np\n",
    "import matplotlib.pyplot as plt\n",
    "import os # for operating system commands like dealing with paths\n",
    "DATA_PATH = '.' # where are the test.csv and train.csv files located\n",
    "test_data_path = os.path.join(DATA_PATH, 'test.csv')\n",
    "train_data_path = os.path.join(DATA_PATH, 'train.csv')"
   ]
  },
  {
   "cell_type": "markdown",
   "metadata": {},
   "source": [
    "Load the training data from the file. Since we know the first column is the 'label' of the number we extract that from the rest and reform the remaining columns as a 28x28 array"
   ]
  },
  {
   "cell_type": "code",
   "execution_count": 2,
   "metadata": {
    "collapsed": false
   },
   "outputs": [
    {
     "name": "stdout",
     "output_type": "stream",
     "text": [
      "CPU times: user 27.2 s, sys: 1.52 s, total: 28.7 s\n",
      "Wall time: 6min 2s\n"
     ]
    }
   ],
   "source": [
    "%%time\n",
    "# this takes around 30 seconds so be patient\n",
    "train_data = np.loadtxt(train_data_path, delimiter = ',', skiprows = 1)\n",
    "numb_id = train_data[:,0] # just the number id\n",
    "numb_vec = train_data[:,1:] # the array of the images"
   ]
  },
  {
   "cell_type": "code",
   "execution_count": 3,
   "metadata": {
    "collapsed": false
   },
   "outputs": [
    {
     "name": "stdout",
     "output_type": "stream",
     "text": [
      "Input Data: (42000, 785)\n",
      "Number ID: (42000,)\n",
      "Number Vector: (42000, 784)\n"
     ]
    }
   ],
   "source": [
    "print('Input Data:', train_data.shape)\n",
    "print('Number ID:', numb_id.shape)\n",
    "print('Number Vector:', numb_vec.shape)"
   ]
  },
  {
   "cell_type": "markdown",
   "metadata": {},
   "source": [
    "The image is formatted as a vector (a single long array), we want to reshape it to look like an image"
   ]
  },
  {
   "cell_type": "code",
   "execution_count": 4,
   "metadata": {
    "collapsed": false
   },
   "outputs": [
    {
     "name": "stdout",
     "output_type": "stream",
     "text": [
      "Number Image (42000, 28, 28)\n"
     ]
    }
   ],
   "source": [
    "numb_image = numb_vec.reshape(-1, 28, 28)\n",
    "print('Number Image', numb_image.shape)"
   ]
  },
  {
   "cell_type": "markdown",
   "metadata": {},
   "source": [
    "Now we can show the image to make sure it is reasonable"
   ]
  },
  {
   "cell_type": "code",
   "execution_count": 5,
   "metadata": {
    "collapsed": false
   },
   "outputs": [
    {
     "data": {
      "text/plain": [
       "(-0.5, 27.5, 27.5, -0.5)"
      ]
     },
     "execution_count": 5,
     "metadata": {},
     "output_type": "execute_result"
    },
    {
     "data": {
      "image/png": "[encoded data removed]",
      "text/plain": [
       "<matplotlib.figure.Figure at 0x104a05e10>"
      ]
     },
     "metadata": {},
     "output_type": "display_data"
    }
   ],
   "source": [
    "%matplotlib inline\n",
    "fig, ax1 = plt.subplots(1,1)\n",
    "ax1.matshow(numb_image[0], cmap = 'gray')\n",
    "ax1.set_title('Current Digit {}'.format(numb_id[0]))\n",
    "ax1.axis('off')"
   ]
  },
  {
   "cell_type": "markdown",
   "metadata": {},
   "source": [
    "# Building a Classifier\n",
    "Since we haven't covered any of the machine learning approaches yet, we will focus on a very simple classifier. Here we will use the MSE and SSIM that we learned about last lecture in order to take a given image and see what image it is most similar to. For this rather than taking the whole image set, we will just take one example of each number (hopefully it is a good example)\n",
    "## Getting Examples"
   ]
  },
  {
   "cell_type": "code",
   "execution_count": 6,
   "metadata": {
    "collapsed": false
   },
   "outputs": [],
   "source": [
    "digit_examples = {} # we use a dictionary to store the results\n",
    "for cur_digit in np.unique(numb_id):\n",
    "    # find the first example\n",
    "    digit_matches = np.where(numb_id == cur_digit)\n",
    "    digit_examples[cur_digit] = numb_image[digit_matches[0][0]]"
   ]
  },
  {
   "cell_type": "code",
   "execution_count": 7,
   "metadata": {
    "collapsed": false
   },
   "outputs": [
    {
     "data": {
      "image/png": "[encoded data removed]",
      "text/plain": [
       "<matplotlib.figure.Figure at 0x104a109b0>"
      ]
     },
     "metadata": {},
     "output_type": "display_data"
    }
   ],
   "source": [
    "fig, c_axs = plt.subplots(1, len(digit_examples), figsize = (20, 3))\n",
    "for c_ax, (c_digit, c_img) in zip(c_axs, digit_examples.items()):\n",
    "    c_ax.imshow(c_img, cmap = 'gray', interpolation = 'none')\n",
    "    c_ax.set_title('Digit {}'.format(c_digit))\n",
    "    c_ax.axis('off')"
   ]
  },
  {
   "cell_type": "markdown",
   "metadata": {},
   "source": [
    "### Build the Classifier\n",
    "Using the dictionary of example digits we can build a very simple classifier using the MSE to find the best match"
   ]
  },
  {
   "cell_type": "code",
   "execution_count": 8,
   "metadata": {
    "collapsed": true
   },
   "outputs": [],
   "source": [
    "def mse(img1, img2):\n",
    "    return np.mean(np.power(img1-img2,2))\n",
    "\n",
    "def classify_image(example_dict, in_image):\n",
    "    score_dict = {c_digit: mse(in_image, c_img) for c_digit, c_img in example_dict.items()}\n",
    "    best_digit, best_score = sorted(score_dict.items(), \n",
    "                                    key = lambda x: x[1])[0] # sort by score and take the first item\n",
    "    return best_digit, score_dict"
   ]
  },
  {
   "cell_type": "code",
   "execution_count": 9,
   "metadata": {
    "collapsed": false
   },
   "outputs": [
    {
     "name": "stdout",
     "output_type": "stream",
     "text": [
      "Guessed 9.0, actual result was 9.0\n",
      "Score for other numbers: {0.0: 13638.167091836734, 1.0: 9411.7181122448983, 2.0: 11739.299744897959, 3.0: 8889.4362244897966, 4.0: 8301.9170918367345, 5.0: 7537.7551020408164, 6.0: 7310.8839285714284, 7.0: 7872.6377551020405, 8.0: 6810.3099489795923, 9.0: 2720.6875}\n"
     ]
    },
    {
     "data": {
      "image/png": "[encoded data removed]",
      "text/plain": [
       "<matplotlib.figure.Figure at 0x145ebeda0>"
      ]
     },
     "metadata": {},
     "output_type": "display_data"
    }
   ],
   "source": [
    "rand_digit = np.random.choice(range(len(numb_image))) # just picks a random digit\n",
    "def guess_idx(digit_idx):\n",
    "    guess_digit, guess_dict = classify_image(digit_examples, numb_image[digit_idx])\n",
    "    print('Guessed {}, actual result was {}'.format(guess_digit, numb_id[digit_idx]))\n",
    "    print('Score for other numbers:', guess_dict)\n",
    "    # show the results\n",
    "    fig, (ax_img, ax_score) = plt.subplots(1,2, figsize = (10, 5))\n",
    "    ax_img.imshow(numb_image[rand_digit], cmap = 'gray', interpolation = 'none')\n",
    "    ax_img.set_title('Guessed {}, actual result was {}'.format(guess_digit, numb_id[digit_idx]))\n",
    "    ax_score.bar(guess_dict.keys(), guess_dict.values())\n",
    "    ax_score.set_xlabel('Digit')\n",
    "    ax_score.set_ylabel('MSE')\n",
    "    ax_score.set_title('MSE for each digit')\n",
    "\n",
    "guess_idx(rand_digit)"
   ]
  },
  {
   "cell_type": "markdown",
   "metadata": {},
   "source": [
    "## Interactive Results\n",
    "This section is just for fun and don't worry about how this function works. It lets you browse through all of the images and see what the classifier returns"
   ]
  },
  {
   "cell_type": "code",
   "execution_count": 10,
   "metadata": {
    "collapsed": false
   },
   "outputs": [
    {
     "name": "stdout",
     "output_type": "stream",
     "text": [
      "Guessed 4.0, actual result was 4.0\n",
      "Score for other numbers: {0.0: 11971.779336734693, 1.0: 9712.5267857142862, 2.0: 12863.432397959185, 3.0: 9145.1224489795914, 4.0: 6677.4783163265311, 5.0: 8807.2040816326535, 6.0: 9176.8405612244896, 7.0: 9414.6760204081638, 8.0: 11088.825255102041, 9.0: 8356.9017857142862}\n"
     ]
    },
    {
     "data": {
      "image/png": "[encoded data removed]",
      "text/plain": [
       "<matplotlib.figure.Figure at 0x146adb748>"
      ]
     },
     "metadata": {},
     "output_type": "display_data"
    }
   ],
   "source": [
    "try:\n",
    "    from ipywidgets import interact\n",
    "    interact(guess_idx, digit_idx = (0, len(numb_image)-1),  continuous_update=False)\n",
    "except ImportError:\n",
    "    from warnings import warn\n",
    "    warn(\"Interact requires ipywidgets to work\")"
   ]
  },
  {
   "cell_type": "markdown",
   "metadata": {},
   "source": [
    "The classified doesn't work perfectly but it does a fairly good job of at least coming close with most of the guesses"
   ]
  },
  {
   "cell_type": "markdown",
   "metadata": {},
   "source": [
    "# Submitting an Entry\n",
    "We can now submit an entry to the contest by running our digit classifier on all of the test images. The data for the test images is the same as the training data but there are no labels."
   ]
  },
  {
   "cell_type": "code",
   "execution_count": 11,
   "metadata": {
    "collapsed": false
   },
   "outputs": [
    {
     "name": "stdout",
     "output_type": "stream",
     "text": [
      "Test Vec (28000, 784)\n",
      "Test Image (28000, 28, 28)\n"
     ]
    }
   ],
   "source": [
    "test_vec = np.loadtxt(test_data_path, delimiter = ',', skiprows = 1)\n",
    "print('Test Vec', test_vec.shape)\n",
    "test_image = test_vec.reshape(-1, 28, 28)\n",
    "print('Test Image', test_image.shape)"
   ]
  },
  {
   "cell_type": "markdown",
   "metadata": {},
   "source": [
    "## Make a guess for each image\n",
    "Here we make a guess for each image by using our ```classify_image``` function and just keeping the first result (the digit) and not the entire dictionary"
   ]
  },
  {
   "cell_type": "code",
   "execution_count": 12,
   "metadata": {
    "collapsed": false
   },
   "outputs": [
    {
     "name": "stdout",
     "output_type": "stream",
     "text": [
      "CPU times: user 14.1 s, sys: 172 ms, total: 14.3 s\n",
      "Wall time: 16.7 s\n"
     ]
    }
   ],
   "source": [
    "%%time\n",
    "guess_test_data = [classify_image(digit_examples, c_img)[0] for c_img in test_image]"
   ]
  },
  {
   "cell_type": "markdown",
   "metadata": {},
   "source": [
    "### Save the results\n",
    "Here we save the results to a file called submission that we can upload to Kaggle and see how we perform"
   ]
  },
  {
   "cell_type": "code",
   "execution_count": 13,
   "metadata": {
    "collapsed": true
   },
   "outputs": [],
   "source": [
    "with open('submission.csv', 'w') as out_file:\n",
    "    out_file.write('ImageId,Label\\n')\n",
    "    for img_id, guess_label in enumerate(guess_test_data):\n",
    "        out_file.write('%d,%d\\n' % (img_id+1, guess_label))"
   ]
  },
  {
   "cell_type": "markdown",
   "metadata": {},
   "source": [
    "# Basic Tasks\n",
    "- Submit the output to the competition, where does it come in? Is this better or worse than expected? What would random guessing be?\n",
    "\n",
    "# Idea Questions\n",
    "- What causes the classifier to fail on certain images?\n",
    "- How could the classifier be improved?\n",
    "- Could filtering or image enhancement improve the result, if so how\n",
    "\n",
    "# Challenge Tasks\n",
    "- Try improving the classifier by using SSIM or another similarity metric.\n",
    "- Try using more examples (or better examples)\n",
    "- Implement a version using image enhancement and compare the results"
   ]
  },
  {
   "cell_type": "code",
   "execution_count": null,
   "metadata": {
    "collapsed": true
   },
   "outputs": [],
   "source": []
  }
 ],
 "metadata": {
  "kernelspec": {
   "display_name": "Python [default]",
   "language": "python",
   "name": "python3"
  },
  "language_info": {
   "codemirror_mode": {
    "name": "ipython",
    "version": 3
   },
   "file_extension": ".py",
   "mimetype": "text/x-python",
   "name": "python",
   "nbconvert_exporter": "python",
   "pygments_lexer": "ipython3",
   "version": "3.5.2"
  },
  "widgets": {
   "state": {
    "cd61fe53a1134879ab7d316fd6aa7dcd": {
     "views": [
      {
       "cell_index": 16
      }
     ]
    }
   },
   "version": "1.2.0"
  }
 },
 "nbformat": 4,
 "nbformat_minor": 1
}
