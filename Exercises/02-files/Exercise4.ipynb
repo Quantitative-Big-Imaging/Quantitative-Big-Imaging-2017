{
  "metadata": {
    "kernelspec": {
      "name": "python"
    },
    "language_info": {
      "name": "python",
      "version": "3.5.1"
    }
  },
  "nbformat": 4,
  "nbformat_minor": 0,
  "cells": [
    {
      "cell_type": "markdown",
      "source": "A notebook to test calculating of SNR, SSIM, and MSE for a filter using a number of randomly generated additive noise problems",
      "metadata": {}
    },
    {
      "cell_type": "markdown",
      "source": "# Setup\nHere we import the libraries we need",
      "metadata": {}
    },
    {
      "cell_type": "code",
      "source": "import matplotlib.pyplot as plt # plotting and showing images\nimport numpy as np # handling arrays\nfrom skimage.io import imread # reading images\nfrom skimage.measure import compare_ssim as ssim # structural similarity\nmse = lambda img1, img2: np.sum(np.power(img1-img2,2))",
      "execution_count": null,
      "outputs": [],
      "metadata": {}
    },
    {
      "cell_type": "markdown",
      "source": "# Load and Show Phantom",
      "metadata": {}
    },
    {
      "cell_type": "code",
      "source": "d=np.mean(imread('../input/testpattern.png'),2)\nplt.imshow(d, cmap= 'gray')",
      "execution_count": null,
      "outputs": [],
      "metadata": {}
    },
    {
      "cell_type": "markdown",
      "source": "# Tasks\nEvaluate a number of different filters using different noise levels and determine which works the best under which circumstances. The example is done for a uniform filter, and you job is to add \n\n 1. gaussian\n 2. median \n 3. wavelet (advanced) \n 4. anisotropic diffusion (expert)",
      "metadata": {}
    },
    {
      "cell_type": "code",
      "source": "\nscales = [0.1, 0.5, 1, 10, 20, 100];\n\nNtests = 10;\n\n# initialize arrays for results\nmse1 = np.zeros((len(scales), Ntests), dtype = np.float32)\nssim1 = np.zeros((len(scales), Ntests), dtype = np.float32)\nfrom scipy.ndimage.filters import uniform_filter\ncurrent_filter = lambda img: uniform_filter(img, 5)\n\nfor i, c_scale in enumerate(scales):\n    for j in range(Ntests):\n        x = current_filter(d+c_scale*np.random.uniform(-c_scale, c_scale, size = d.shape))\n        mse1[i,j]=mse(d,x);\n        ssim1[i,j]=ssim(d,x);    \n    # Add some lines here to display the latest image in a subplot",
      "execution_count": null,
      "outputs": [],
      "metadata": {}
    },
    {
      "cell_type": "code",
      "source": "fig, (ax1, ax2) = plt.subplots(1,2)\nax1.loglog(scales,np.mean(mse1,1)) # Add annotations for the plot and axes\nax1.set_title('MSE vs Scale')\nax1.set_xlabel('Scale')\nax1.set_ylabel('MSE')\n\nax2.semilogx(scales,np.mean(ssim1,1))\nax2.set_title('SSIM vs Scale')\nax2.set_xlabel('Scale')\nax2.set_ylabel('SSIM')",
      "execution_count": null,
      "outputs": [],
      "metadata": {}
    },
    {
      "cell_type": "code",
      "source": "# make a version of the plot showing SNR instead of scale",
      "execution_count": null,
      "outputs": [],
      "metadata": {}
    },
    {
      "cell_type": "markdown",
      "source": "## Test run for filter 2\n\n### repeat the code from filter 1 \n\n```",
      "metadata": {}
    },
    {
      "cell_type": "code",
      "source": "",
      "execution_count": null,
      "outputs": [],
      "metadata": {}
    }
  ]
}